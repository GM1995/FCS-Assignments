{
 "cells": [
  {
   "cell_type": "code",
   "execution_count": null,
   "metadata": {},
   "outputs": [],
   "source": [
    "# Exercise 1\n",
    "\n",
    "list1 = [54, 76, 2, 4, 98, 100]\n",
    "n1 = int(input(\"Please choose a number: \"))\n",
    "n2 = int(input(\"Please choose another number: \"))\n",
    "for n in list1:\n",
    "    if (n1 < n < n2) or (n2 < n < n1):\n",
    "        print (n)"
   ]
  },
  {
   "cell_type": "code",
   "execution_count": null,
   "metadata": {},
   "outputs": [],
   "source": [
    "# Exercise 2\n",
    "\n",
    "Names = [\"Maria\", \"Hala\", \"Ghady\", \"Ehsan\", \"Joe\", \"Zoe\"]\n",
    "letter = str(input(\"Please choose a letter \")).lower()\n",
    "if (len(letter) == 1 and letter != \" \"):\n",
    "    unique_names= set()\n",
    "    for name in Names:\n",
    "        for i in range(0, len(name)):\n",
    "            if (name[i].lower() == letter):\n",
    "                unique_names.add(name)\n",
    "    for name in unique_names:\n",
    "        print (name)\n",
    "else:\n",
    "    print (\"Please choose only one letter\")"
   ]
  },
  {
   "cell_type": "code",
   "execution_count": null,
   "metadata": {},
   "outputs": [],
   "source": [
    "# Exercise 3\n",
    "\n",
    "numbers = [-12, 4, 12, 25, 67]\n",
    "n = 0\n",
    "while (n != -99):\n",
    "    n = int(input(\"Please choose a number: \"))\n",
    "    if n not in numbers:\n",
    "        numbers.append(n)\n",
    "        numbers.sort()\n",
    "        print (\"numbers =\", numbers)\n",
    "    else:\n",
    "        print(\"This number already exists in the list\")"
   ]
  },
  {
   "cell_type": "code",
   "execution_count": null,
   "metadata": {},
   "outputs": [],
   "source": [
    "# Exercise 4\n",
    "\n",
    "Words = \"Is this the real life? Is this just fantasy? Caught in a landslide, no escape from reality Open your eyes, look up to the skies and see I'm just a poor boy, I need no sympathy Because I'm easy come, easy go, little high, little low Any way the wind blows doesn't really matter to me, to me Mama, just killed a man Put a gun against his head, pulled my trigger, now he's dead Mama, life had just begun But now I've gone and thrown it all away Mama, ooh, didn't mean to make you cry If I'm not back again this time tomorrow Carry on, carry on as if nothing really matters Too late, my time has come Sends shivers down my spine, body's aching all the time Goodbye, everybody, I've got to go Gotta leave you all behind and face the truth Mama, ooh (any way the wind blows) I don't wanna die I sometimes wish I'd never been born at all I see a little silhouetto of a man Scaramouche, Scaramouche, will you do the Fandango? Thunderbolt and lightning, very, very frightening me (Galileo) Galileo, (Galileo) Galileo, Galileo Figaro, magnifico But I'm just a poor boy, nobody loves me He's just a poor boy from a poor family Spare him his life from this monstrosity.\"\n",
    "int1 = int(input(\"Please choose a number: \"))\n",
    "int2 = int(input(\"Please choose another number: \"))\n",
    "if (int1 < int2):\n",
    "    for i in range (0, len(Words)):\n",
    "        if (i >= int1 and i <= int2):\n",
    "            print(Words[i], end=\"\")\n",
    "elif (int1 > int2):\n",
    "    for i in range (0, len(Words)):\n",
    "        if (i <= int1 and i >= int2):\n",
    "            print(Words[i], end=\"\")\n",
    "else:\n",
    "    if(-1158 < int1 < 1157):\n",
    "        print(Words[int1], end=\"\")\n",
    "    else:\n",
    "        print(\"Indexes are out of range\")"
   ]
  }
 ],
 "metadata": {
  "kernelspec": {
   "display_name": "Python 3",
   "language": "python",
   "name": "python3"
  },
  "language_info": {
   "codemirror_mode": {
    "name": "ipython",
    "version": 3
   },
   "file_extension": ".py",
   "mimetype": "text/x-python",
   "name": "python",
   "nbconvert_exporter": "python",
   "pygments_lexer": "ipython3",
   "version": "3.7.4"
  }
 },
 "nbformat": 4,
 "nbformat_minor": 2
}
